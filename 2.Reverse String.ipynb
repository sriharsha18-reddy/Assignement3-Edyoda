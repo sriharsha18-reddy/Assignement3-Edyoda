{
 "cells": [
  {
   "cell_type": "code",
   "execution_count": 2,
   "metadata": {},
   "outputs": [
    {
     "name": "stdout",
     "output_type": "stream",
     "text": [
      "The original string  is :  1234abcd\n",
      "The reversed string is :  dcba4321\n"
     ]
    }
   ],
   "source": [
    "def reverse(str):   \n",
    "    str = str[::-1]   \n",
    "    return str   \n",
    "    \n",
    "s = \"1234abcd\"  \n",
    "print (\"The original string  is : \",s)   \n",
    "print (\"The reversed string is : \",reverse(s))"
   ]
  }
 ],
 "metadata": {
  "kernelspec": {
   "display_name": "Python 3",
   "language": "python",
   "name": "python3"
  },
  "language_info": {
   "codemirror_mode": {
    "name": "ipython",
    "version": 3
   },
   "file_extension": ".py",
   "mimetype": "text/x-python",
   "name": "python",
   "nbconvert_exporter": "python",
   "pygments_lexer": "ipython3",
   "version": "3.11.0"
  },
  "orig_nbformat": 4,
  "vscode": {
   "interpreter": {
    "hash": "3d53cc3af682315c93049f793831f6a6a5eec26e3294cf47223004b97a69556a"
   }
  }
 },
 "nbformat": 4,
 "nbformat_minor": 2
}
