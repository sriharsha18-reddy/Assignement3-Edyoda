{
 "cells": [
  {
   "cell_type": "code",
   "execution_count": 69,
   "metadata": {},
   "outputs": [
    {
     "name": "stdout",
     "output_type": "stream",
     "text": [
      "Lower Case letter in the String: 12\n",
      "Upper Case letter in the String: 3\n"
     ]
    }
   ],
   "source": [
    "x=input(\"Enter the string:\")\n",
    "def char(x):\n",
    "  u=0\n",
    "  l=0\n",
    "  for i in x:\n",
    "      if i>='a' and i<='z':\n",
    "       l+=1\n",
    "\n",
    "      if i >='A' and i<='Z':\n",
    "       u+=1\n",
    "\n",
    "  print(\"Lower Case letter in the String:\",l)\n",
    "  print(\"Upper Case letter in the String:\",u)\n",
    "char(x)"
   ]
  }
 ],
 "metadata": {
  "kernelspec": {
   "display_name": "Python 3",
   "language": "python",
   "name": "python3"
  },
  "language_info": {
   "codemirror_mode": {
    "name": "ipython",
    "version": 3
   },
   "file_extension": ".py",
   "mimetype": "text/x-python",
   "name": "python",
   "nbconvert_exporter": "python",
   "pygments_lexer": "ipython3",
   "version": "3.11.0"
  },
  "orig_nbformat": 4,
  "vscode": {
   "interpreter": {
    "hash": "3d53cc3af682315c93049f793831f6a6a5eec26e3294cf47223004b97a69556a"
   }
  }
 },
 "nbformat": 4,
 "nbformat_minor": 2
}
