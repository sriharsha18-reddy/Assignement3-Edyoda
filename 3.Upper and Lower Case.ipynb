{
 "cells": [
  {
   "cell_type": "code",
   "execution_count": 33,
   "metadata": {},
   "outputs": [
    {
     "name": "stdout",
     "output_type": "stream",
     "text": [
      "The number of lowercase Characters are: 15\n",
      "The number of uppercase Characters are: 3\n"
     ]
    }
   ],
   "source": [
    "Str=\"ThequickBrowFox\"\n",
    "lower=0\n",
    "upper=0\n",
    "for i in Str:\n",
    "      if(i.isupper()):\n",
    "            upper+=1\n",
    "      else:\n",
    "            lower+=1\n",
    "print(\"The number of lowercase Characters are:\",lower)\n",
    "print(\"The number of uppercase Characters are:\",upper)\n"
   ]
  },
  {
   "cell_type": "code",
   "execution_count": 34,
   "metadata": {},
   "outputs": [
    {
     "name": "stdout",
     "output_type": "stream",
     "text": [
      "The number of lowercase characters is: 12\n",
      "The number of uppercase characters is: 6\n"
     ]
    }
   ],
   "source": [
    "String=\"The quick Brow Fox\"\n",
    "lower=0\n",
    "upper=0\n",
    "for i in Str:\n",
    "      if(i.islower()):\n",
    "            lower+=1\n",
    "      else:\n",
    "            upper+=1\n",
    "print(\"The number of lowercase characters is:\",lower)\n",
    "print(\"The number of uppercase characters is:\",upper)"
   ]
  },
  {
   "cell_type": "code",
   "execution_count": 35,
   "metadata": {},
   "outputs": [],
   "source": [
    "x=input(\"Enter the string:\")\n",
    "def char(x):\n",
    "  u=0\n",
    "  l=0\n",
    "  for i in x:\n",
    "      if i>='a' and i<='z':\n",
    "       l+=1\n",
    "\n",
    "      if i >='A' and i<='Z':\n",
    "       u+=1\n",
    "\n",
    "  print(\"LowerCase letter in the String:\",l)\n",
    "  print(\"UpperCase letter in the String:\",u)\n",
    "char(x)"
   ]
  }
 ],
 "metadata": {
  "kernelspec": {
   "display_name": "Python 3",
   "language": "python",
   "name": "python3"
  },
  "language_info": {
   "codemirror_mode": {
    "name": "ipython",
    "version": 3
   },
   "file_extension": ".py",
   "mimetype": "text/x-python",
   "name": "python",
   "nbconvert_exporter": "python",
   "pygments_lexer": "ipython3",
   "version": "3.11.0"
  },
  "orig_nbformat": 4,
  "vscode": {
   "interpreter": {
    "hash": "3d53cc3af682315c93049f793831f6a6a5eec26e3294cf47223004b97a69556a"
   }
  }
 },
 "nbformat": 4,
 "nbformat_minor": 2
}
