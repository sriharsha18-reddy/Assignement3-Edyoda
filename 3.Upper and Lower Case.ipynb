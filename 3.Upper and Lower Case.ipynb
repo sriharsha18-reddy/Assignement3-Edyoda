{
 "cells": [
  {
   "cell_type": "code",
   "execution_count": 1,
   "metadata": {},
   "outputs": [
    {
     "name": "stdout",
     "output_type": "stream",
     "text": [
      "The number of Lowercase Characters are: 12\n",
      "The number of Uppercase Characters are: 6\n"
     ]
    }
   ],
   "source": [
    "Str=\"The quick Brow Fox\"\n",
    "lower=0\n",
    "upper=0\n",
    "for i in Str:\n",
    "      if(i.islower()):\n",
    "            lower+=1\n",
    "      else:\n",
    "            upper+=1\n",
    "print(\"The number of Lowercase Characters are:\",lower)\n",
    "print(\"The number of Uppercase Characters are:\",upper)\n"
   ]
  }
 ],
 "metadata": {
  "kernelspec": {
   "display_name": "Python 3",
   "language": "python",
   "name": "python3"
  },
  "language_info": {
   "codemirror_mode": {
    "name": "ipython",
    "version": 3
   },
   "file_extension": ".py",
   "mimetype": "text/x-python",
   "name": "python",
   "nbconvert_exporter": "python",
   "pygments_lexer": "ipython3",
   "version": "3.11.0"
  },
  "orig_nbformat": 4,
  "vscode": {
   "interpreter": {
    "hash": "3d53cc3af682315c93049f793831f6a6a5eec26e3294cf47223004b97a69556a"
   }
  }
 },
 "nbformat": 4,
 "nbformat_minor": 2
}
